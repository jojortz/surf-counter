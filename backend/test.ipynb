{
 "cells": [
  {
   "cell_type": "markdown",
   "metadata": {},
   "source": [
    "# Surfer Counting with Roboflow\n",
    "This is a notebook for testing out using Roboflow to count surfers.\n",
    "\n",
    "The footage is taken from a Surfline webcam."
   ]
  },
  {
   "cell_type": "markdown",
   "metadata": {},
   "source": [
    "## 1. Annotating a Single Image\n",
    "First, we'll test our model with just a single image."
   ]
  },
  {
   "cell_type": "code",
   "execution_count": 2,
   "metadata": {},
   "outputs": [],
   "source": [
    "from roboflow.hosted import HostedTest\n",
    "\n",
    "# Create a HostedTest object\n",
    "hosted_test = HostedTest(\n",
    "    workspace_name=\"project-1-ijmz5\",\n",
    "    workflow_id=\"detect-count-and-visualize\"\n",
    ")\n",
    "\n",
    "image_path = \"data/surf-screenshot.png\"\n"
   ]
  },
  {
   "cell_type": "markdown",
   "metadata": {},
   "source": [
    "First, let's take a look at the image."
   ]
  },
  {
   "cell_type": "code",
   "execution_count": null,
   "metadata": {},
   "outputs": [],
   "source": [
    "# display the image\n",
    "from PIL import Image\n",
    "from IPython.display import display\n",
    "image = Image.open(image_path)\n",
    "display(image)"
   ]
  },
  {
   "cell_type": "markdown",
   "metadata": {},
   "source": [
    "As you can see, the image is NOT great quality. I can see size or maybe 7 surfers in the water. However, it isn't clear for a pretrained model like YOLO to know that those are people in the water. As such, I decided to fine-tune a model based on this surf footage, and I hosted a workflow on Roboflow."
   ]
  },
  {
   "cell_type": "markdown",
   "metadata": {},
   "source": [
    "### Run the workflow\n",
    "Now that we've checked the image, let's test out our Roboflow workflow."
   ]
  },
  {
   "cell_type": "code",
   "execution_count": 4,
   "metadata": {},
   "outputs": [],
   "source": [
    "# Run the workflow\n",
    "outputs = hosted_test.run(image_path=image_path)"
   ]
  },
  {
   "cell_type": "code",
   "execution_count": null,
   "metadata": {},
   "outputs": [],
   "source": [
    "# Decode and display the image\n",
    "import base64\n",
    "from PIL import Image\n",
    "from IPython.display import display\n",
    "from io import BytesIO\n",
    "\n",
    "output_image_data = base64.b64decode(outputs[0][\"output_image\"])\n",
    "\n",
    "image = Image.open(BytesIO(output_image_data))\n",
    "\n",
    "display(image)"
   ]
  },
  {
   "cell_type": "code",
   "execution_count": null,
   "metadata": {},
   "outputs": [],
   "source": [
    "# Show the count output\n",
    "print(f\"There are {outputs[0][\"count_objects\"]} surfers in the image\")"
   ]
  },
  {
   "cell_type": "markdown",
   "metadata": {},
   "source": [
    "Looks like the model captured the surfers!"
   ]
  },
  {
   "cell_type": "markdown",
   "metadata": {},
   "source": [
    "## 2. Running the model on a video\n",
    "Next, let's try running the model on a video. I have a 1 minute clip that the previous image is taken from. Let's try out our custom model on it."
   ]
  },
  {
   "cell_type": "markdown",
   "metadata": {},
   "source": [
    "### Setup"
   ]
  },
  {
   "cell_type": "code",
   "execution_count": 1,
   "metadata": {},
   "outputs": [
   ],
   "source": [
    "from roboflow.local import VideoTest\n",
    "\n",
    "# Create a HostedTest object\n",
    "video_test = VideoTest(\n",
    "    workspace_name=\"project-1-ijmz5\",\n",
    "    workflow_id=\"detect-count-and-visualize\"\n",
    ")\n",
    "\n",
    "video_path = \"data/surf-video.mp4\""
   ]
  },
  {
   "cell_type": "markdown",
   "metadata": {},
   "source": [
    "### View the Video\n",
    "First, let's take a look at the raw video."
   ]
  },
  {
   "cell_type": "code",
   "execution_count": 2,
   "metadata": {},
   "outputs": [
    {
     "data": {
      "text/html": [
       "<video src=\"data/surf-video.mp4\" controls  >\n",
       "      Your browser does not support the <code>video</code> element.\n",
       "    </video>"
      ],
      "text/plain": [
       "<IPython.core.display.Video object>"
      ]
     },
     "execution_count": 2,
     "metadata": {},
     "output_type": "execute_result"
    }
   ],
   "source": [
    "# video video at video_path\n",
    "from IPython.display import Video\n",
    "Video(video_path)"
   ]
  },
  {
   "cell_type": "markdown",
   "metadata": {},
   "source": [
    "### Run Roboflow on the Video"
   ]
  },
  {
   "cell_type": "code",
   "execution_count": 3,
   "metadata": {},
   "outputs": [
   ],
   "source": [
    "output_path = \"data/surf-video-output.mp4\"\n",
    "\n",
    "video_test.run(video_reference=video_path, output_path=output_path)"
   ]
  },
  {
   "cell_type": "markdown",
   "metadata": {},
   "source": [
    "### View the Output\n",
    "Now let's view the annotated video!"
   ]
  },
  {
   "cell_type": "code",
   "execution_count": 4,
   "metadata": {},
   "outputs": [
    {
     "data": {
      "text/html": [
       "<video src=\"data/surf-video-output.mp4\" controls  >\n",
       "      Your browser does not support the <code>video</code> element.\n",
       "    </video>"
      ],
      "text/plain": [
       "<IPython.core.display.Video object>"
      ]
     },
     "execution_count": 4,
     "metadata": {},
     "output_type": "execute_result"
    }
   ],
   "source": [
    "Video(output_path)"
   ]
  }
 ],
 "metadata": {
  "kernelspec": {
   "display_name": "surf-roboflow",
   "language": "python",
   "name": "python3"
  },
  "language_info": {
   "codemirror_mode": {
    "name": "ipython",
    "version": 3
   },
   "file_extension": ".py",
   "mimetype": "text/x-python",
   "name": "python",
   "nbconvert_exporter": "python",
   "pygments_lexer": "ipython3",
   "version": "3.12.9"
  }
 },
 "nbformat": 4,
 "nbformat_minor": 2
}
